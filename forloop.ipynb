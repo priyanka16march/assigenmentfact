{
 "cells": [
  {
   "cell_type": "code",
   "execution_count": 1,
   "metadata": {},
   "outputs": [],
   "source": [
    "# for loop"
   ]
  },
  {
   "cell_type": "code",
   "execution_count": 3,
   "metadata": {},
   "outputs": [
    {
     "name": "stdout",
     "output_type": "stream",
     "text": [
      "var1: 0\n",
      "var1: 1\n",
      "var1: 2\n",
      "var1: 3\n",
      "var1: 4\n",
      "var1: 5\n",
      "var1: 6\n",
      "var1: 7\n",
      "var1: 8\n",
      "var1: 9\n"
     ]
    }
   ],
   "source": [
    "for var1 in range(10):\n",
    "    print(\"var1:\",var1)"
   ]
  },
  {
   "cell_type": "code",
   "execution_count": 4,
   "metadata": {},
   "outputs": [
    {
     "name": "stdout",
     "output_type": "stream",
     "text": [
      "var1: 1\n",
      "var1: 2\n",
      "var1: 3\n",
      "var1: 4\n",
      "var1: 5\n",
      "var1: 6\n",
      "var1: 7\n",
      "var1: 8\n",
      "var1: 9\n"
     ]
    }
   ],
   "source": [
    "for var1 in range(1,10):\n",
    "    print(\"var1:\",var1)"
   ]
  },
  {
   "cell_type": "code",
   "execution_count": 6,
   "metadata": {},
   "outputs": [
    {
     "name": "stdout",
     "output_type": "stream",
     "text": [
      "var1: 1\n",
      "var1: 3\n",
      "var1: 5\n",
      "var1: 7\n",
      "var1: 9\n"
     ]
    }
   ],
   "source": [
    "for var1 in range(1,10,2):\n",
    "    print(\"var1:\",var1)"
   ]
  },
  {
   "cell_type": "code",
   "execution_count": 8,
   "metadata": {},
   "outputs": [
    {
     "name": "stdout",
     "output_type": "stream",
     "text": [
      "var1: 10\n",
      "var1: 9\n",
      "var1: 8\n",
      "var1: 7\n",
      "var1: 6\n",
      "var1: 5\n",
      "var1: 4\n",
      "var1: 3\n",
      "var1: 2\n"
     ]
    }
   ],
   "source": [
    "for var1 in range(10,1,-1):\n",
    "    print(\"var1:\",var1)"
   ]
  },
  {
   "cell_type": "code",
   "execution_count": 9,
   "metadata": {},
   "outputs": [
    {
     "name": "stdout",
     "output_type": "stream",
     "text": [
      "var1: 2\n",
      "var1: 4\n",
      "var1: 6\n",
      "var1: 8\n",
      "var1: 10\n",
      "var1: 12\n",
      "var1: 14\n",
      "var1: 16\n",
      "var1: 18\n"
     ]
    }
   ],
   "source": [
    "for var1 in range(2,20,2):\n",
    "    print(\"var1:\",var1)"
   ]
  },
  {
   "cell_type": "code",
   "execution_count": 10,
   "metadata": {},
   "outputs": [],
   "source": [
    "# table print by user"
   ]
  },
  {
   "cell_type": "code",
   "execution_count": 15,
   "metadata": {},
   "outputs": [
    {
     "name": "stdin",
     "output_type": "stream",
     "text": [
      "enter the table of: 8\n"
     ]
    },
    {
     "name": "stdout",
     "output_type": "stream",
     "text": [
      "8 * 1 = 8\n",
      "8 * 2 = 16\n",
      "8 * 3 = 24\n",
      "8 * 4 = 32\n",
      "8 * 5 = 40\n",
      "8 * 6 = 48\n",
      "8 * 7 = 56\n",
      "8 * 8 = 64\n",
      "8 * 9 = 72\n",
      "8 * 10 = 80\n"
     ]
    }
   ],
   "source": [
    "num = int(input(\"enter the table of:\"))\n",
    "\n",
    "for var1 in range(1,11):\n",
    "    var2 = var1 * num\n",
    "    print(f\"{num} * {var1} = {var2}\")"
   ]
  },
  {
   "cell_type": "code",
   "execution_count": 16,
   "metadata": {},
   "outputs": [
    {
     "name": "stdin",
     "output_type": "stream",
     "text": [
      "enter the table of: 4\n"
     ]
    },
    {
     "name": "stdout",
     "output_type": "stream",
     "text": [
      "4 * 1 = 4\n",
      "4 * 2 = 8\n",
      "4 * 3 = 12\n",
      "4 * 4 = 16\n",
      "4 * 5 = 20\n",
      "4 * 6 = 24\n",
      "4 * 7 = 28\n",
      "4 * 8 = 32\n",
      "4 * 9 = 36\n",
      "4 * 10 = 40\n"
     ]
    },
    {
     "name": "stdin",
     "output_type": "stream",
     "text": [
      "enter the table of: 5\n"
     ]
    },
    {
     "name": "stdout",
     "output_type": "stream",
     "text": [
      "5 * 1 = 5\n",
      "5 * 2 = 10\n",
      "5 * 3 = 15\n",
      "5 * 4 = 20\n",
      "5 * 5 = 25\n",
      "5 * 6 = 30\n",
      "5 * 7 = 35\n",
      "5 * 8 = 40\n",
      "5 * 9 = 45\n",
      "5 * 10 = 50\n"
     ]
    },
    {
     "name": "stdin",
     "output_type": "stream",
     "text": [
      "enter the table of: 0\n"
     ]
    },
    {
     "name": "stdout",
     "output_type": "stream",
     "text": [
      "congrts out of loop\n"
     ]
    }
   ],
   "source": [
    "while True:\n",
    "    num = int(input(\"enter the table of:\"))\n",
    "    if num == 0:\n",
    "        break\n",
    "\n",
    "    for var1 in range(1,11):\n",
    "        var2 = var1 * num\n",
    "        print(f\"{num} * {var1} = {var2}\")\n",
    "print(\"congrts out of loop\")        "
   ]
  },
  {
   "cell_type": "code",
   "execution_count": 18,
   "metadata": {},
   "outputs": [
    {
     "name": "stdin",
     "output_type": "stream",
     "text": [
      "enter the table of: 7\n"
     ]
    },
    {
     "name": "stdout",
     "output_type": "stream",
     "text": [
      "7 * 1 = 7\n",
      "7 * 2 = 14\n",
      "7 * 3 = 21\n",
      "7 * 4 = 28\n",
      "7 * 5 = 35\n",
      "7 * 6 = 42\n",
      "7 * 7 = 49\n",
      "7 * 8 = 56\n",
      "7 * 9 = 63\n",
      "7 * 10 = 70\n"
     ]
    },
    {
     "name": "stdin",
     "output_type": "stream",
     "text": [
      "enter the table of: 0\n"
     ]
    },
    {
     "name": "stdout",
     "output_type": "stream",
     "text": [
      "congrts out of loop\n"
     ]
    }
   ],
   "source": [
    "from time import sleep\n",
    "while True:\n",
    "    num = int(input(\"enter the table of:\"))\n",
    "    if num == 0:\n",
    "        break\n",
    "\n",
    "    for var1 in range(1,11):\n",
    "        var2 = var1 * num\n",
    "        print(f\"{num} * {var1} = {var2}\")\n",
    "        sleep(0.5)\n",
    "print(\"congrts out of loop\") \n"
   ]
  },
  {
   "cell_type": "code",
   "execution_count": 19,
   "metadata": {},
   "outputs": [],
   "source": [
    "# factorial of any number"
   ]
  },
  {
   "cell_type": "code",
   "execution_count": 23,
   "metadata": {},
   "outputs": [
    {
     "name": "stdin",
     "output_type": "stream",
     "text": [
      "enter any number 5\n"
     ]
    },
    {
     "name": "stdout",
     "output_type": "stream",
     "text": [
      "fac of number is : 5 1\n",
      "fac of number is : 5 2\n",
      "fac of number is : 5 6\n",
      "fac of number is : 5 24\n",
      "fac of number is : 5 120\n"
     ]
    },
    {
     "name": "stdin",
     "output_type": "stream",
     "text": [
      "enter any number 6\n"
     ]
    },
    {
     "name": "stdout",
     "output_type": "stream",
     "text": [
      "fac of number is : 6 1\n",
      "fac of number is : 6 2\n",
      "fac of number is : 6 6\n",
      "fac of number is : 6 24\n",
      "fac of number is : 6 120\n",
      "fac of number is : 6 720\n"
     ]
    },
    {
     "name": "stdin",
     "output_type": "stream",
     "text": [
      "enter any number 0\n"
     ]
    },
    {
     "name": "stdout",
     "output_type": "stream",
     "text": [
      "congrtas out of loop\n"
     ]
    }
   ],
   "source": [
    "while True:   \n",
    "    num = int(input(\"enter any number\"))\n",
    "    if num == 0:\n",
    "        break\n",
    "    fac = 1\n",
    "    for i in range (1,num + 1):\n",
    "        fac = fac * i\n",
    "        print(\"fac of number is :\", num, fac)\n",
    "print(\"congrtas out of loop\")        "
   ]
  },
  {
   "cell_type": "code",
   "execution_count": null,
   "metadata": {},
   "outputs": [],
   "source": []
  }
 ],
 "metadata": {
  "kernelspec": {
   "display_name": "Python 3",
   "language": "python",
   "name": "python3"
  },
  "language_info": {
   "codemirror_mode": {
    "name": "ipython",
    "version": 3
   },
   "file_extension": ".py",
   "mimetype": "text/x-python",
   "name": "python",
   "nbconvert_exporter": "python",
   "pygments_lexer": "ipython3",
   "version": "3.8.5"
  }
 },
 "nbformat": 4,
 "nbformat_minor": 4
}
